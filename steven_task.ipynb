{
 "cells": [
  {
   "cell_type": "code",
   "execution_count": 45,
   "metadata": {},
   "outputs": [],
   "source": [
    "import pandas as pd \n",
    "import numpy as np \n",
    "import matplotlib.pyplot as plt\n",
    "from enum import Enum\n",
    "from datetime import datetime\n",
    "from flask import Flask, render_template, request\n"
   ]
  },
  {
   "cell_type": "code",
   "execution_count": 54,
   "metadata": {},
   "outputs": [],
   "source": [
    "# create an enum for importance\n",
    "class Importance(Enum):\n",
    "    NONE = 'None'\n",
    "    KINDA_IMPORTANT = 'Kinda Important'\n",
    "    SUPER_IMPORTANT = 'Super Important'\n",
    "    DATE_DEPENDENT = 'Date Dependent'\n",
    "\n",
    "# create an enum for overdue\n",
    "class IfOverdue(Enum):\n",
    "    MARK_RED_PRIORITIZE = 'Mark Red and Prioritize'\n",
    "    MARK_RED = 'Mark Red'\n",
    "    NEVER_MIND = 'Never Mind'"
   ]
  },
  {
   "cell_type": "code",
   "execution_count": 47,
   "metadata": {},
   "outputs": [],
   "source": [
    "# create class Task\n",
    "class Task:\n",
    "    def __init__(self, task, is_done=False, label=None, date_due=None, importance=None, is_prioritized=False, is_overdue=False,\n",
    "                 if_overdue=None, details=None, steps=None, thoughts=None):\n",
    "        self.task = task\n",
    "        self.is_done = is_done\n",
    "        self.label=label\n",
    "        self.date_added = datetime.now()  # Automatically set to the current date and time\n",
    "        self.date_due = date_due\n",
    "        # Check if importance is a valid member of the Importance enum\n",
    "        if importance and importance not in Importance.__members__:\n",
    "            raise ValueError(f\"{importance} is not a valid Importance\")\n",
    "        self.importance = Importance[importance] if importance else None\n",
    "        self.is_prioritized = is_prioritized\n",
    "\n",
    "\n",
    "        # do-it-if-have-time attributes:\n",
    "        self.is_overdue = is_overdue\n",
    "        # Check if if_overdue is a valid member of the IfOverdue enum\n",
    "        if if_overdue and if_overdue not in IfOverdue.__members__:\n",
    "            raise ValueError(f\"{if_overdue} is not a valid IfOverdue\")\n",
    "        self.if_overdue = IfOverdue[if_overdue] if if_overdue else None        \n",
    "        self.details = details \n",
    "        self.steps = steps\n",
    "        self.thoughts = thoughts\n",
    "\n",
    "\n",
    "    #FUNCTIONS\n",
    "    def get_impotrance_score(self):\n",
    "        '''\n",
    "        create importance score (with a range of 0 to 8)\n",
    "        if it is prioritized (is_prioritized==True), give it a score of 8 (top score)\n",
    "        if not, consider the importance:\n",
    "            if it is date dependent, give it a score of 7 - (days in between)\n",
    "            (this means if it is due in less than 1 day, it will have a score of 7)\n",
    "            if it is super important, give it a score 6.5 (while it will still be less important than those due in less than 1 day)\n",
    "            if it is kinda important, give it a score 3.5 (date dependent will result higher if it is due in three days)\n",
    "        '''\n",
    "        if self.is_prioritized:\n",
    "            score = 8\n",
    "        elif self.importance==Importance.SUPER_IMPORTANT:\n",
    "            score = 6.5\n",
    "        elif self.importance==Importance.KINDA_IMPORTANT:\n",
    "            score = 3.5\n",
    "        elif self.importance==Importance.DATE_DEPENDENT:\n",
    "            time_left = self.date_due - datetime.now()\n",
    "            days_left = time_left.days\n",
    "            score = max(0,7-days_left)\n",
    "        else: # if == None\n",
    "            score = 0\n",
    "        return score \n",
    "    \n",
    "    def update_labels(self,labels):\n",
    "        '''\n",
    "        if the added instance has a new label, append it to the list of labels\n",
    "        if it is already existed, ignore this\n",
    "        '''\n",
    "        if self.label not in labels:\n",
    "            labels.append(self.label)\n",
    "\n",
    "    # def get_current_labels(self,labels):\n",
    "    #     return ...\n"
   ]
  },
  {
   "cell_type": "code",
   "execution_count": 48,
   "metadata": {},
   "outputs": [],
   "source": [
    "# examples\n",
    "task1 = Task('Complete assignment', label='school', date_due=datetime(2023, 11, 21, 23, 59), importance='SUPER_IMPORTANT', \n",
    "             is_prioritized=False, is_overdue=False, if_overdue='MARK_RED_PRIORITIZE', details='30% of the final grade!', \n",
    "             steps='1. intro; 2. body; 3. conclusion.', thoughts='this is so hard omg')\n",
    "\n",
    "task2 = Task('Pick up stones', label='life', importance='KINDA_IMPORTANT', steps='find a stone & pick it up.', thoughts='stones are cool.')\n",
    "\n",
    "task3 = Task('hackathon', label='school', date_due=datetime(2023, 11, 19, 23, 59), importance='DATE_DEPENDENT', if_overdue='NEVER_MIND',\n",
    "             details='I like coding.', steps='1. this object; 2. create functions; 3. show it as a dataframe.', thoughts='yessir')"
   ]
  },
  {
   "cell_type": "code",
   "execution_count": 49,
   "metadata": {},
   "outputs": [
    {
     "name": "stdout",
     "output_type": "stream",
     "text": [
      "task: Complete assignment\n",
      "is_done: False\n",
      "label: school\n",
      "date_added: 2023-11-19 16:59:06.958980\n",
      "date_due: 2023-11-21 23:59:00\n",
      "importance: Importance.SUPER_IMPORTANT\n",
      "is_prioritized: False\n",
      "is_overdue: False\n",
      "if_overdue: IfOverdue.MARK_RED_PRIORITIZE\n",
      "details: 30% of the final grade!\n",
      "steps: 1. intro; 2. body; 3. conclusion.\n",
      "thoughts: this is so hard omg\n",
      "6.5\n"
     ]
    }
   ],
   "source": [
    "# tests\n",
    "def print_task_details(task):\n",
    "    for attr, value in task.__dict__.items():\n",
    "        print(f\"{attr}: {value}\")\n",
    "\n",
    "\n",
    "print_task_details(task1)\n",
    "print(task1.get_impotrance_score())\n",
    "\n",
    "\n"
   ]
  },
  {
   "cell_type": "markdown",
   "metadata": {},
   "source": [
    "# PRESENTING THE DATAFRAME"
   ]
  },
  {
   "cell_type": "markdown",
   "metadata": {},
   "source": [
    "### BACKEND DATAFRAME"
   ]
  },
  {
   "cell_type": "code",
   "execution_count": 50,
   "metadata": {},
   "outputs": [
    {
     "name": "stdout",
     "output_type": "stream",
     "text": [
      "(0, 13)\n"
     ]
    },
    {
     "data": {
      "text/html": [
       "<div>\n",
       "<style scoped>\n",
       "    .dataframe tbody tr th:only-of-type {\n",
       "        vertical-align: middle;\n",
       "    }\n",
       "\n",
       "    .dataframe tbody tr th {\n",
       "        vertical-align: top;\n",
       "    }\n",
       "\n",
       "    .dataframe thead th {\n",
       "        text-align: right;\n",
       "    }\n",
       "</style>\n",
       "<table border=\"1\" class=\"dataframe\">\n",
       "  <thead>\n",
       "    <tr style=\"text-align: right;\">\n",
       "      <th></th>\n",
       "      <th>task</th>\n",
       "      <th>done?</th>\n",
       "      <th>label</th>\n",
       "      <th>date added</th>\n",
       "      <th>date due</th>\n",
       "      <th>importance</th>\n",
       "      <th>prioritize it?</th>\n",
       "      <th>is it overdue?</th>\n",
       "      <th>if is overdue</th>\n",
       "      <th>details</th>\n",
       "      <th>steps</th>\n",
       "      <th>thoughts</th>\n",
       "      <th>importance score</th>\n",
       "    </tr>\n",
       "  </thead>\n",
       "  <tbody>\n",
       "  </tbody>\n",
       "</table>\n",
       "</div>"
      ],
      "text/plain": [
       "Empty DataFrame\n",
       "Columns: [task, done?, label, date added, date due, importance, prioritize it?, is it overdue?, if is overdue, details, steps, thoughts, importance score]\n",
       "Index: []"
      ]
     },
     "execution_count": 50,
     "metadata": {},
     "output_type": "execute_result"
    }
   ],
   "source": [
    "cols_back = ['task','done?','label','date added','date due',\n",
    "        'importance','prioritize it?','is it overdue?','if is overdue','details',\n",
    "        'steps','thoughts','importance score']\n",
    "df_back = pd.DataFrame(\n",
    "    columns = cols_back\n",
    ")\n",
    "print(df_back.shape)\n",
    "df_back"
   ]
  },
  {
   "cell_type": "markdown",
   "metadata": {},
   "source": [
    "### FRONTEND DATAFRAME"
   ]
  },
  {
   "cell_type": "code",
   "execution_count": 51,
   "metadata": {},
   "outputs": [
    {
     "name": "stdout",
     "output_type": "stream",
     "text": [
      "(0, 7)\n"
     ]
    },
    {
     "data": {
      "text/html": [
       "<div>\n",
       "<style scoped>\n",
       "    .dataframe tbody tr th:only-of-type {\n",
       "        vertical-align: middle;\n",
       "    }\n",
       "\n",
       "    .dataframe tbody tr th {\n",
       "        vertical-align: top;\n",
       "    }\n",
       "\n",
       "    .dataframe thead th {\n",
       "        text-align: right;\n",
       "    }\n",
       "</style>\n",
       "<table border=\"1\" class=\"dataframe\">\n",
       "  <thead>\n",
       "    <tr style=\"text-align: right;\">\n",
       "      <th></th>\n",
       "      <th>done?</th>\n",
       "      <th>task</th>\n",
       "      <th>label</th>\n",
       "      <th>date added</th>\n",
       "      <th>date due</th>\n",
       "      <th>importance</th>\n",
       "      <th>prirotize it?</th>\n",
       "    </tr>\n",
       "  </thead>\n",
       "  <tbody>\n",
       "  </tbody>\n",
       "</table>\n",
       "</div>"
      ],
      "text/plain": [
       "Empty DataFrame\n",
       "Columns: [done?, task, label, date added, date due, importance, prirotize it?]\n",
       "Index: []"
      ]
     },
     "execution_count": 51,
     "metadata": {},
     "output_type": "execute_result"
    }
   ],
   "source": [
    "cols_front = ['done?','task','label','date added','date due','importance','prirotize it?']\n",
    "df_front = pd.DataFrame(\n",
    "    columns=cols_front\n",
    ")\n",
    "print(df_front.shape)\n",
    "df_front"
   ]
  },
  {
   "cell_type": "code",
   "execution_count": 52,
   "metadata": {},
   "outputs": [],
   "source": [
    "# link a Task() instance to df\n",
    "def get_instance_info(task):\n",
    "    task_values = []\n",
    "    for attr, value in task.__dict__.items():\n",
    "        if isinstance(value, Enum):\n",
    "            value = value.value\n",
    "            # print(value)\n",
    "        task_values.append(value)\n",
    "    task_values.append(task.get_importance_score)\n",
    "    return task_values\n",
    "\n",
    "def add_instance_to_df(df, task):\n",
    "    task_values = get_instance_info(task)\n",
    "    df.loc[len(df)] = task_values\n",
    "    return df\n"
   ]
  },
  {
   "cell_type": "code",
   "execution_count": 53,
   "metadata": {},
   "outputs": [
    {
     "ename": "AttributeError",
     "evalue": "'Task' object has no attribute 'get_importance_score'",
     "output_type": "error",
     "traceback": [
      "\u001b[0;31m---------------------------------------------------------------------------\u001b[0m",
      "\u001b[0;31mAttributeError\u001b[0m                            Traceback (most recent call last)",
      "\u001b[1;32m/Users/stevey/Desktop/PROJECTS/yangjerrica/steven_task.ipynb Cell 12\u001b[0m line \u001b[0;36m2\n\u001b[1;32m      <a href='vscode-notebook-cell:/Users/stevey/Desktop/PROJECTS/yangjerrica/steven_task.ipynb#X11sZmlsZQ%3D%3D?line=0'>1</a>\u001b[0m \u001b[39m# tests\u001b[39;00m\n\u001b[0;32m----> <a href='vscode-notebook-cell:/Users/stevey/Desktop/PROJECTS/yangjerrica/steven_task.ipynb#X11sZmlsZQ%3D%3D?line=1'>2</a>\u001b[0m \u001b[39mprint\u001b[39m(get_instance_info(task1))\n\u001b[1;32m      <a href='vscode-notebook-cell:/Users/stevey/Desktop/PROJECTS/yangjerrica/steven_task.ipynb#X11sZmlsZQ%3D%3D?line=3'>4</a>\u001b[0m df_try \u001b[39m=\u001b[39m df_back\u001b[39m.\u001b[39mcopy()\n\u001b[1;32m      <a href='vscode-notebook-cell:/Users/stevey/Desktop/PROJECTS/yangjerrica/steven_task.ipynb#X11sZmlsZQ%3D%3D?line=4'>5</a>\u001b[0m add_instance_to_df(df_try,task1)\n",
      "\u001b[1;32m/Users/stevey/Desktop/PROJECTS/yangjerrica/steven_task.ipynb Cell 12\u001b[0m line \u001b[0;36m9\n\u001b[1;32m      <a href='vscode-notebook-cell:/Users/stevey/Desktop/PROJECTS/yangjerrica/steven_task.ipynb#X11sZmlsZQ%3D%3D?line=6'>7</a>\u001b[0m         \u001b[39m# print(value)\u001b[39;00m\n\u001b[1;32m      <a href='vscode-notebook-cell:/Users/stevey/Desktop/PROJECTS/yangjerrica/steven_task.ipynb#X11sZmlsZQ%3D%3D?line=7'>8</a>\u001b[0m     task_values\u001b[39m.\u001b[39mappend(value)\n\u001b[0;32m----> <a href='vscode-notebook-cell:/Users/stevey/Desktop/PROJECTS/yangjerrica/steven_task.ipynb#X11sZmlsZQ%3D%3D?line=8'>9</a>\u001b[0m task_values\u001b[39m.\u001b[39mappend(task\u001b[39m.\u001b[39;49mget_importance_score)\n\u001b[1;32m     <a href='vscode-notebook-cell:/Users/stevey/Desktop/PROJECTS/yangjerrica/steven_task.ipynb#X11sZmlsZQ%3D%3D?line=9'>10</a>\u001b[0m \u001b[39mreturn\u001b[39;00m task_values\n",
      "\u001b[0;31mAttributeError\u001b[0m: 'Task' object has no attribute 'get_importance_score'"
     ]
    }
   ],
   "source": [
    "# tests\n",
    "print(get_instance_info(task1))\n",
    "\n",
    "df_try = df_back.copy()\n",
    "add_instance_to_df(df_try,task1)\n",
    "add_instance_to_df(df_try,task3)\n",
    "df_try.drop_duplicates(inplace=True)\n",
    "df_try"
   ]
  },
  {
   "cell_type": "code",
   "execution_count": 24,
   "metadata": {},
   "outputs": [],
   "source": [
    "# create importance score \n",
    "# use ordinal encoder?\n",
    "\n",
    "def create_importance_score(df):\n",
    "    '''\n",
    "    create importance score (with a range of 0 to 7)\n",
    "    if it is date dependent, give it a score of 7 - (days in between)\n",
    "    (this means if it is due in less than 1 day, it will have a score of 7)\n",
    "    if it is super important, give it a score 6.5 (while it will still be less important than those due in less than 1 day)\n",
    "    if it is kinda important, give it a score 3.5 (date dependent will result higher if it is due in three days)\n",
    "    '''\n",
    "    importance_score = []\n",
    "    for index, row in df.iterrows():\n",
    "        if row['importance']=='Date Dependent':\n",
    "            time_left = row['date due'] - datetime.now()\n",
    "            days_left = time_left.days\n",
    "            score = max(0,7-days_left)\n",
    "            importance_score.append(score)\n",
    "        elif row['importance']=='Super Important':\n",
    "            importance_score.append(6.5)\n",
    "        elif row['importance']=='Kinda Important':\n",
    "            importance_score.append(3.5)\n",
    "\n",
    "    df_scored = df.copy()\n",
    "\n",
    "    df_scored['importance_score']=importance_score\n",
    "    return df_scored\n"
   ]
  },
  {
   "cell_type": "code",
   "execution_count": 27,
   "metadata": {},
   "outputs": [
    {
     "name": "stdout",
     "output_type": "stream",
     "text": [
      "(2, 13)\n"
     ]
    },
    {
     "data": {
      "text/html": [
       "<div>\n",
       "<style scoped>\n",
       "    .dataframe tbody tr th:only-of-type {\n",
       "        vertical-align: middle;\n",
       "    }\n",
       "\n",
       "    .dataframe tbody tr th {\n",
       "        vertical-align: top;\n",
       "    }\n",
       "\n",
       "    .dataframe thead th {\n",
       "        text-align: right;\n",
       "    }\n",
       "</style>\n",
       "<table border=\"1\" class=\"dataframe\">\n",
       "  <thead>\n",
       "    <tr style=\"text-align: right;\">\n",
       "      <th></th>\n",
       "      <th>task</th>\n",
       "      <th>done?</th>\n",
       "      <th>label</th>\n",
       "      <th>date added</th>\n",
       "      <th>date due</th>\n",
       "      <th>importance</th>\n",
       "      <th>prioritize it?</th>\n",
       "      <th>is it overdue?</th>\n",
       "      <th>if is overdue</th>\n",
       "      <th>details</th>\n",
       "      <th>steps</th>\n",
       "      <th>thoughts</th>\n",
       "      <th>importance_score</th>\n",
       "    </tr>\n",
       "  </thead>\n",
       "  <tbody>\n",
       "    <tr>\n",
       "      <th>0</th>\n",
       "      <td>Complete assignment</td>\n",
       "      <td>False</td>\n",
       "      <td>school</td>\n",
       "      <td>2023-11-19 14:34:29.097861</td>\n",
       "      <td>2023-11-21 23:59:00</td>\n",
       "      <td>Super Important</td>\n",
       "      <td>False</td>\n",
       "      <td>False</td>\n",
       "      <td>Mark Red and Prioritize</td>\n",
       "      <td>30% of the final grade!</td>\n",
       "      <td>1. intro; 2. body; 3. conclusion.</td>\n",
       "      <td>this is so hard omg</td>\n",
       "      <td>6.5</td>\n",
       "    </tr>\n",
       "    <tr>\n",
       "      <th>1</th>\n",
       "      <td>hackathon</td>\n",
       "      <td>False</td>\n",
       "      <td>school</td>\n",
       "      <td>2023-11-19 14:34:29.097921</td>\n",
       "      <td>2023-11-19 23:59:00</td>\n",
       "      <td>Date Dependent</td>\n",
       "      <td>False</td>\n",
       "      <td>False</td>\n",
       "      <td>Never Mind</td>\n",
       "      <td>I like coding.</td>\n",
       "      <td>1. this object; 2. create functions; 3. show i...</td>\n",
       "      <td>yessir</td>\n",
       "      <td>7.0</td>\n",
       "    </tr>\n",
       "  </tbody>\n",
       "</table>\n",
       "</div>"
      ],
      "text/plain": [
       "                  task  done?   label                 date added  \\\n",
       "0  Complete assignment  False  school 2023-11-19 14:34:29.097861   \n",
       "1            hackathon  False  school 2023-11-19 14:34:29.097921   \n",
       "\n",
       "             date due       importance  prioritize it?  is it overdue?  \\\n",
       "0 2023-11-21 23:59:00  Super Important           False           False   \n",
       "1 2023-11-19 23:59:00   Date Dependent           False           False   \n",
       "\n",
       "             if is overdue                  details  \\\n",
       "0  Mark Red and Prioritize  30% of the final grade!   \n",
       "1               Never Mind           I like coding.   \n",
       "\n",
       "                                               steps             thoughts  \\\n",
       "0                  1. intro; 2. body; 3. conclusion.  this is so hard omg   \n",
       "1  1. this object; 2. create functions; 3. show i...               yessir   \n",
       "\n",
       "   importance_score  \n",
       "0               6.5  \n",
       "1               7.0  "
      ]
     },
     "execution_count": 27,
     "metadata": {},
     "output_type": "execute_result"
    }
   ],
   "source": [
    "df_try_scored = create_importance_score(df_try)\n",
    "\n",
    "print(df_try_scored.shape)\n",
    "df_try_scored"
   ]
  },
  {
   "cell_type": "code",
   "execution_count": 28,
   "metadata": {},
   "outputs": [
    {
     "name": "stdout",
     "output_type": "stream",
     "text": [
      "(0, 12)\n"
     ]
    },
    {
     "data": {
      "text/html": [
       "<div>\n",
       "<style scoped>\n",
       "    .dataframe tbody tr th:only-of-type {\n",
       "        vertical-align: middle;\n",
       "    }\n",
       "\n",
       "    .dataframe tbody tr th {\n",
       "        vertical-align: top;\n",
       "    }\n",
       "\n",
       "    .dataframe thead th {\n",
       "        text-align: right;\n",
       "    }\n",
       "</style>\n",
       "<table border=\"1\" class=\"dataframe\">\n",
       "  <thead>\n",
       "    <tr style=\"text-align: right;\">\n",
       "      <th></th>\n",
       "      <th>task</th>\n",
       "      <th>done?</th>\n",
       "      <th>label</th>\n",
       "      <th>date added</th>\n",
       "      <th>date due</th>\n",
       "      <th>importance</th>\n",
       "      <th>prioritize it?</th>\n",
       "      <th>is it overdue?</th>\n",
       "      <th>if is overdue</th>\n",
       "      <th>details</th>\n",
       "      <th>steps</th>\n",
       "      <th>thoughts</th>\n",
       "    </tr>\n",
       "  </thead>\n",
       "  <tbody>\n",
       "  </tbody>\n",
       "</table>\n",
       "</div>"
      ],
      "text/plain": [
       "Empty DataFrame\n",
       "Columns: [task, done?, label, date added, date due, importance, prioritize it?, is it overdue?, if is overdue, details, steps, thoughts]\n",
       "Index: []"
      ]
     },
     "execution_count": 28,
     "metadata": {},
     "output_type": "execute_result"
    }
   ],
   "source": [
    "print(df.shape)\n",
    "df"
   ]
  },
  {
   "cell_type": "code",
   "execution_count": 13,
   "metadata": {},
   "outputs": [
    {
     "data": {
      "text/html": [
       "<div>\n",
       "<style scoped>\n",
       "    .dataframe tbody tr th:only-of-type {\n",
       "        vertical-align: middle;\n",
       "    }\n",
       "\n",
       "    .dataframe tbody tr th {\n",
       "        vertical-align: top;\n",
       "    }\n",
       "\n",
       "    .dataframe thead th {\n",
       "        text-align: right;\n",
       "    }\n",
       "</style>\n",
       "<table border=\"1\" class=\"dataframe\">\n",
       "  <thead>\n",
       "    <tr style=\"text-align: right;\">\n",
       "      <th></th>\n",
       "      <th>task</th>\n",
       "      <th>done?</th>\n",
       "      <th>label</th>\n",
       "      <th>date added</th>\n",
       "      <th>date due</th>\n",
       "      <th>importance</th>\n",
       "      <th>prioritize it?</th>\n",
       "      <th>is it overdue?</th>\n",
       "      <th>if is overdue</th>\n",
       "      <th>details</th>\n",
       "      <th>steps</th>\n",
       "      <th>thoughts</th>\n",
       "    </tr>\n",
       "  </thead>\n",
       "  <tbody>\n",
       "    <tr>\n",
       "      <th>0</th>\n",
       "      <td>Complete assignment</td>\n",
       "      <td>False</td>\n",
       "      <td>school</td>\n",
       "      <td>2023-11-19 14:34:29.097861</td>\n",
       "      <td>2023-11-21 23:59:00</td>\n",
       "      <td>Super Important</td>\n",
       "      <td>False</td>\n",
       "      <td>False</td>\n",
       "      <td>Mark Red and Prioritize</td>\n",
       "      <td>30% of the final grade!</td>\n",
       "      <td>1. intro; 2. body; 3. conclusion.</td>\n",
       "      <td>this is so hard omg</td>\n",
       "    </tr>\n",
       "    <tr>\n",
       "      <th>1</th>\n",
       "      <td>hackathon</td>\n",
       "      <td>False</td>\n",
       "      <td>school</td>\n",
       "      <td>2023-11-19 14:34:29.097921</td>\n",
       "      <td>2023-11-19 23:59:00</td>\n",
       "      <td>Date Dependent</td>\n",
       "      <td>False</td>\n",
       "      <td>False</td>\n",
       "      <td>Never Mind</td>\n",
       "      <td>I like coding.</td>\n",
       "      <td>1. this object; 2. create functions; 3. show i...</td>\n",
       "      <td>yessir</td>\n",
       "    </tr>\n",
       "  </tbody>\n",
       "</table>\n",
       "</div>"
      ],
      "text/plain": [
       "                  task  done?   label                 date added  \\\n",
       "0  Complete assignment  False  school 2023-11-19 14:34:29.097861   \n",
       "1            hackathon  False  school 2023-11-19 14:34:29.097921   \n",
       "\n",
       "             date due       importance  prioritize it?  is it overdue?  \\\n",
       "0 2023-11-21 23:59:00  Super Important           False           False   \n",
       "1 2023-11-19 23:59:00   Date Dependent           False           False   \n",
       "\n",
       "             if is overdue                  details  \\\n",
       "0  Mark Red and Prioritize  30% of the final grade!   \n",
       "1               Never Mind           I like coding.   \n",
       "\n",
       "                                               steps             thoughts  \n",
       "0                  1. intro; 2. body; 3. conclusion.  this is so hard omg  \n",
       "1  1. this object; 2. create functions; 3. show i...               yessir  "
      ]
     },
     "execution_count": 13,
     "metadata": {},
     "output_type": "execute_result"
    }
   ],
   "source": [
    "df"
   ]
  },
  {
   "cell_type": "markdown",
   "metadata": {},
   "source": [
    "# let the user input their data"
   ]
  },
  {
   "cell_type": "code",
   "execution_count": null,
   "metadata": {},
   "outputs": [],
   "source": [
    "# ...\n",
    "app = Flask(__name__)\n",
    "\n",
    "@app.route('/submit', methods=['POST'])\n"
   ]
  },
  {
   "cell_type": "markdown",
   "metadata": {},
   "source": [
    "# ARCHIVE"
   ]
  },
  {
   "cell_type": "markdown",
   "metadata": {},
   "source": []
  },
  {
   "cell_type": "code",
   "execution_count": null,
   "metadata": {},
   "outputs": [],
   "source": []
  }
 ],
 "metadata": {
  "kernelspec": {
   "display_name": "my-env",
   "language": "python",
   "name": "python3"
  },
  "language_info": {
   "codemirror_mode": {
    "name": "ipython",
    "version": 3
   },
   "file_extension": ".py",
   "mimetype": "text/x-python",
   "name": "python",
   "nbconvert_exporter": "python",
   "pygments_lexer": "ipython3",
   "version": "3.10.0"
  }
 },
 "nbformat": 4,
 "nbformat_minor": 2
}
